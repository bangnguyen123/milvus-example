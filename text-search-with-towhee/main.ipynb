{
 "cells": [
  {
   "cell_type": "code",
   "execution_count": 1,
   "metadata": {},
   "outputs": [],
   "source": [
    "!wget -q https://github.com/towhee-io/examples/releases/download/data/New_Medium_Data.csv"
   ]
  },
  {
   "attachments": {},
   "cell_type": "markdown",
   "metadata": {},
   "source": [
    "## Process Data"
   ]
  },
  {
   "cell_type": "code",
   "execution_count": 2,
   "metadata": {},
   "outputs": [
    {
     "data": {
      "text/html": [
       "<div>\n",
       "<style scoped>\n",
       "    .dataframe tbody tr th:only-of-type {\n",
       "        vertical-align: middle;\n",
       "    }\n",
       "\n",
       "    .dataframe tbody tr th {\n",
       "        vertical-align: top;\n",
       "    }\n",
       "\n",
       "    .dataframe thead th {\n",
       "        text-align: right;\n",
       "    }\n",
       "</style>\n",
       "<table border=\"1\" class=\"dataframe\">\n",
       "  <thead>\n",
       "    <tr style=\"text-align: right;\">\n",
       "      <th></th>\n",
       "      <th>id</th>\n",
       "      <th>title</th>\n",
       "      <th>title_vector</th>\n",
       "      <th>link</th>\n",
       "      <th>reading_time</th>\n",
       "      <th>publication</th>\n",
       "      <th>claps</th>\n",
       "      <th>responses</th>\n",
       "    </tr>\n",
       "  </thead>\n",
       "  <tbody>\n",
       "    <tr>\n",
       "      <th>0</th>\n",
       "      <td>0</td>\n",
       "      <td>The Reported Mortality Rate of Coronavirus Is ...</td>\n",
       "      <td>[0.041732933, 0.013779674, -0.027564144, -0.01...</td>\n",
       "      <td>https://medium.com/swlh/the-reported-mortality...</td>\n",
       "      <td>13</td>\n",
       "      <td>The Startup</td>\n",
       "      <td>1100</td>\n",
       "      <td>18</td>\n",
       "    </tr>\n",
       "    <tr>\n",
       "      <th>1</th>\n",
       "      <td>1</td>\n",
       "      <td>Dashboards in Python: 3 Advanced Examples for ...</td>\n",
       "      <td>[0.0039737443, 0.003020432, -0.0006188639, 0.0...</td>\n",
       "      <td>https://medium.com/swlh/dashboards-in-python-3...</td>\n",
       "      <td>14</td>\n",
       "      <td>The Startup</td>\n",
       "      <td>726</td>\n",
       "      <td>3</td>\n",
       "    </tr>\n",
       "    <tr>\n",
       "      <th>2</th>\n",
       "      <td>2</td>\n",
       "      <td>How Can We Best Switch in Python?</td>\n",
       "      <td>[0.031961977, 0.00047043373, -0.018263113, 0.0...</td>\n",
       "      <td>https://medium.com/swlh/how-can-we-best-switch...</td>\n",
       "      <td>6</td>\n",
       "      <td>The Startup</td>\n",
       "      <td>500</td>\n",
       "      <td>7</td>\n",
       "    </tr>\n",
       "    <tr>\n",
       "      <th>3</th>\n",
       "      <td>3</td>\n",
       "      <td>Maternity leave shouldn’t set women back</td>\n",
       "      <td>[0.032572296, -0.011148319, -0.01688577, -0.00...</td>\n",
       "      <td>https://medium.com/swlh/maternity-leave-should...</td>\n",
       "      <td>9</td>\n",
       "      <td>The Startup</td>\n",
       "      <td>460</td>\n",
       "      <td>1</td>\n",
       "    </tr>\n",
       "    <tr>\n",
       "      <th>4</th>\n",
       "      <td>4</td>\n",
       "      <td>Python NLP Tutorial: Information Extraction an...</td>\n",
       "      <td>[-0.011735886, -0.016938083, -0.027233299, 0.0...</td>\n",
       "      <td>https://medium.com/swlh/python-nlp-tutorial-in...</td>\n",
       "      <td>7</td>\n",
       "      <td>The Startup</td>\n",
       "      <td>163</td>\n",
       "      <td>0</td>\n",
       "    </tr>\n",
       "  </tbody>\n",
       "</table>\n",
       "</div>"
      ],
      "text/plain": [
       "   id                                              title  \\\n",
       "0   0  The Reported Mortality Rate of Coronavirus Is ...   \n",
       "1   1  Dashboards in Python: 3 Advanced Examples for ...   \n",
       "2   2                  How Can We Best Switch in Python?   \n",
       "3   3           Maternity leave shouldn’t set women back   \n",
       "4   4  Python NLP Tutorial: Information Extraction an...   \n",
       "\n",
       "                                        title_vector  \\\n",
       "0  [0.041732933, 0.013779674, -0.027564144, -0.01...   \n",
       "1  [0.0039737443, 0.003020432, -0.0006188639, 0.0...   \n",
       "2  [0.031961977, 0.00047043373, -0.018263113, 0.0...   \n",
       "3  [0.032572296, -0.011148319, -0.01688577, -0.00...   \n",
       "4  [-0.011735886, -0.016938083, -0.027233299, 0.0...   \n",
       "\n",
       "                                                link  reading_time  \\\n",
       "0  https://medium.com/swlh/the-reported-mortality...            13   \n",
       "1  https://medium.com/swlh/dashboards-in-python-3...            14   \n",
       "2  https://medium.com/swlh/how-can-we-best-switch...             6   \n",
       "3  https://medium.com/swlh/maternity-leave-should...             9   \n",
       "4  https://medium.com/swlh/python-nlp-tutorial-in...             7   \n",
       "\n",
       "   publication  claps  responses  \n",
       "0  The Startup   1100         18  \n",
       "1  The Startup    726          3  \n",
       "2  The Startup    500          7  \n",
       "3  The Startup    460          1  \n",
       "4  The Startup    163          0  "
      ]
     },
     "execution_count": 2,
     "metadata": {},
     "output_type": "execute_result"
    }
   ],
   "source": [
    "import pandas as pd\n",
    "\n",
    "df = pd.read_csv('New_Medium_Data.csv', converters={'title_vector': lambda x: eval(x)})\n",
    "df.head()"
   ]
  },
  {
   "attachments": {},
   "cell_type": "markdown",
   "metadata": {},
   "source": [
    "## Load Data into Milvus"
   ]
  },
  {
   "cell_type": "code",
   "execution_count": 3,
   "metadata": {},
   "outputs": [],
   "source": [
    "# Create Milvus Collection\n",
    "from pymilvus import connections, FieldSchema, CollectionSchema, DataType, Collection, utility\n",
    "\n",
    "connections.connect(host='127.0.0.1', port='19530')\n",
    "\n",
    "def create_milvus_collection(collection_name, dim):\n",
    "    if utility.has_collection(collection_name):\n",
    "        utility.drop_collection(collection_name)\n",
    "    \n",
    "    fields = [\n",
    "            FieldSchema(name=\"id\", dtype=DataType.INT64, is_primary=True, auto_id=False),\n",
    "            FieldSchema(name=\"title\", dtype=DataType.VARCHAR, max_length=500),   \n",
    "            FieldSchema(name=\"title_vector\", dtype=DataType.FLOAT_VECTOR, dim=dim),\n",
    "            FieldSchema(name=\"link\", dtype=DataType.VARCHAR, max_length=500),\n",
    "            FieldSchema(name=\"reading_time\", dtype=DataType.INT64),\n",
    "            FieldSchema(name=\"publication\", dtype=DataType.VARCHAR, max_length=500),\n",
    "            FieldSchema(name=\"claps\", dtype=DataType.INT64),\n",
    "            FieldSchema(name=\"responses\", dtype=DataType.INT64)\n",
    "    ]\n",
    "    schema = CollectionSchema(fields=fields, description='search text')\n",
    "    collection = Collection(name=collection_name, schema=schema)\n",
    "    \n",
    "    index_params = {\n",
    "        'metric_type': \"L2\",\n",
    "        'index_type': \"IVF_FLAT\",\n",
    "        'params': {\"nlist\": 2048}\n",
    "    }\n",
    "    collection.create_index(field_name='title_vector', index_params=index_params)\n",
    "    return collection\n",
    "\n",
    "collection = create_milvus_collection('search_article_in_medium', 768)"
   ]
  },
  {
   "attachments": {},
   "cell_type": "markdown",
   "metadata": {},
   "source": [
    "```Towhee supports reading df data through the from_df interface, and then we need to convert the title_vector column in the data to a two-dimensional list in float format, and then insert all the fields into Milvus, each field inserted into Milvus corresponds to one Collection fields created earlier.```"
   ]
  },
  {
   "cell_type": "code",
   "execution_count": 4,
   "metadata": {},
   "outputs": [
    {
     "name": "stderr",
     "output_type": "stream",
     "text": [
      "Downloading https://towhee.io/ann-insert/milvus-client/resolve/branch/main/__init__.py to /Users/nguyenbang/.towhee/operators/ann-insert/milvus-client/files:   0%|          | 0.00/118 [00:00<?, ?B/s]\n",
      "\n",
      "\u001b[A\u001b[A\n",
      "\n",
      "\n",
      "\u001b[A\u001b[A\u001b[A\n",
      "Downloading https://towhee.io/ann-insert/milvus-client/resolve/branch/main/__init__.py to /Users/nguyenbang/.towhee/operators/ann-insert/milvus-client/files: 100%|██████████| 118/118 [00:00<00:00, 25.5kB/s]\n",
      "Downloading https://towhee.io/ann-insert/milvus-client/resolve/branch/main/milvus_client.py to /Users/nguyenbang/.towhee/operators/ann-insert/milvus-client/files: 100%|██████████| 2.07k/2.07k [00:00<00:00, 684kB/s]\n",
      "Downloading https://towhee.io/ann-insert/milvus-client/resolve/branch/main/requirements.txt to /Users/nguyenbang/.towhee/operators/ann-insert/milvus-client/files: 100%|██████████| 9.00/9.00 [00:00<00:00, 1.80kB/s]\n",
      "Downloading https://towhee.io/ann-insert/milvus-client/resolve/branch/main/.gitattributes to /Users/nguyenbang/.towhee/operators/ann-insert/milvus-client/files: 100%|██████████| 1.18k/1.18k [00:00<00:00, 276kB/s]\n",
      "Downloading https://towhee.io/ann-insert/milvus-client/resolve/branch/main/README.md to /Users/nguyenbang/.towhee/operators/ann-insert/milvus-client/files: 100%|██████████| 1.40k/1.40k [00:00<00:00, 263kB/s]\n"
     ]
    },
    {
     "name": "stdout",
     "output_type": "stream",
     "text": [
      "Requirement already satisfied: pymilvus in /Users/nguyenbang/.virtualenvs/vector-database-milvus/lib/python3.9/site-packages (from -r /Users/nguyenbang/.towhee/operators/ann-insert/milvus-client/versions/main/requirements.txt (line 1)) (2.3.1)\n",
      "Requirement already satisfied: grpcio<=1.58.0,>=1.49.1 in /Users/nguyenbang/.virtualenvs/vector-database-milvus/lib/python3.9/site-packages (from pymilvus->-r /Users/nguyenbang/.towhee/operators/ann-insert/milvus-client/versions/main/requirements.txt (line 1)) (1.58.0)\n",
      "Requirement already satisfied: protobuf>=3.20.0 in /Users/nguyenbang/.virtualenvs/vector-database-milvus/lib/python3.9/site-packages (from pymilvus->-r /Users/nguyenbang/.towhee/operators/ann-insert/milvus-client/versions/main/requirements.txt (line 1)) (4.24.3)\n",
      "Requirement already satisfied: environs<=9.5.0 in /Users/nguyenbang/.virtualenvs/vector-database-milvus/lib/python3.9/site-packages (from pymilvus->-r /Users/nguyenbang/.towhee/operators/ann-insert/milvus-client/versions/main/requirements.txt (line 1)) (9.5.0)\n",
      "Requirement already satisfied: ujson>=2.0.0 in /Users/nguyenbang/.virtualenvs/vector-database-milvus/lib/python3.9/site-packages (from pymilvus->-r /Users/nguyenbang/.towhee/operators/ann-insert/milvus-client/versions/main/requirements.txt (line 1)) (5.8.0)\n",
      "Requirement already satisfied: pandas>=1.2.4 in /Users/nguyenbang/.virtualenvs/vector-database-milvus/lib/python3.9/site-packages (from pymilvus->-r /Users/nguyenbang/.towhee/operators/ann-insert/milvus-client/versions/main/requirements.txt (line 1)) (2.1.1)\n",
      "Requirement already satisfied: requests in /Users/nguyenbang/.virtualenvs/vector-database-milvus/lib/python3.9/site-packages (from pymilvus->-r /Users/nguyenbang/.towhee/operators/ann-insert/milvus-client/versions/main/requirements.txt (line 1)) (2.31.0)\n",
      "Requirement already satisfied: minio in /Users/nguyenbang/.virtualenvs/vector-database-milvus/lib/python3.9/site-packages (from pymilvus->-r /Users/nguyenbang/.towhee/operators/ann-insert/milvus-client/versions/main/requirements.txt (line 1)) (7.1.16)\n",
      "Requirement already satisfied: marshmallow>=3.0.0 in /Users/nguyenbang/.virtualenvs/vector-database-milvus/lib/python3.9/site-packages (from environs<=9.5.0->pymilvus->-r /Users/nguyenbang/.towhee/operators/ann-insert/milvus-client/versions/main/requirements.txt (line 1)) (3.20.1)\n",
      "Requirement already satisfied: python-dotenv in /Users/nguyenbang/.virtualenvs/vector-database-milvus/lib/python3.9/site-packages (from environs<=9.5.0->pymilvus->-r /Users/nguyenbang/.towhee/operators/ann-insert/milvus-client/versions/main/requirements.txt (line 1)) (1.0.0)\n",
      "Requirement already satisfied: numpy>=1.22.4 in /Users/nguyenbang/.virtualenvs/vector-database-milvus/lib/python3.9/site-packages (from pandas>=1.2.4->pymilvus->-r /Users/nguyenbang/.towhee/operators/ann-insert/milvus-client/versions/main/requirements.txt (line 1)) (1.26.0)\n",
      "Requirement already satisfied: python-dateutil>=2.8.2 in /Users/nguyenbang/.virtualenvs/vector-database-milvus/lib/python3.9/site-packages (from pandas>=1.2.4->pymilvus->-r /Users/nguyenbang/.towhee/operators/ann-insert/milvus-client/versions/main/requirements.txt (line 1)) (2.8.2)\n",
      "Requirement already satisfied: pytz>=2020.1 in /Users/nguyenbang/.virtualenvs/vector-database-milvus/lib/python3.9/site-packages (from pandas>=1.2.4->pymilvus->-r /Users/nguyenbang/.towhee/operators/ann-insert/milvus-client/versions/main/requirements.txt (line 1)) (2023.3.post1)\n",
      "Requirement already satisfied: tzdata>=2022.1 in /Users/nguyenbang/.virtualenvs/vector-database-milvus/lib/python3.9/site-packages (from pandas>=1.2.4->pymilvus->-r /Users/nguyenbang/.towhee/operators/ann-insert/milvus-client/versions/main/requirements.txt (line 1)) (2023.3)\n",
      "Requirement already satisfied: certifi in /Users/nguyenbang/.virtualenvs/vector-database-milvus/lib/python3.9/site-packages (from minio->pymilvus->-r /Users/nguyenbang/.towhee/operators/ann-insert/milvus-client/versions/main/requirements.txt (line 1)) (2023.7.22)\n",
      "Requirement already satisfied: urllib3 in /Users/nguyenbang/.virtualenvs/vector-database-milvus/lib/python3.9/site-packages (from minio->pymilvus->-r /Users/nguyenbang/.towhee/operators/ann-insert/milvus-client/versions/main/requirements.txt (line 1)) (2.0.5)\n",
      "Requirement already satisfied: charset-normalizer<4,>=2 in /Users/nguyenbang/.virtualenvs/vector-database-milvus/lib/python3.9/site-packages (from requests->pymilvus->-r /Users/nguyenbang/.towhee/operators/ann-insert/milvus-client/versions/main/requirements.txt (line 1)) (3.3.0)\n",
      "Requirement already satisfied: idna<4,>=2.5 in /Users/nguyenbang/.virtualenvs/vector-database-milvus/lib/python3.9/site-packages (from requests->pymilvus->-r /Users/nguyenbang/.towhee/operators/ann-insert/milvus-client/versions/main/requirements.txt (line 1)) (3.4)\n",
      "Requirement already satisfied: packaging>=17.0 in /Users/nguyenbang/.virtualenvs/vector-database-milvus/lib/python3.9/site-packages (from marshmallow>=3.0.0->environs<=9.5.0->pymilvus->-r /Users/nguyenbang/.towhee/operators/ann-insert/milvus-client/versions/main/requirements.txt (line 1)) (23.1)\n",
      "Requirement already satisfied: six>=1.5 in /Users/nguyenbang/.virtualenvs/vector-database-milvus/lib/python3.9/site-packages (from python-dateutil>=2.8.2->pandas>=1.2.4->pymilvus->-r /Users/nguyenbang/.towhee/operators/ann-insert/milvus-client/versions/main/requirements.txt (line 1)) (1.16.0)\n"
     ]
    }
   ],
   "source": [
    "# Insert data into Milvus\n",
    "from towhee import ops, pipe, DataCollection\n",
    "\n",
    "insert_pipe = (pipe.input('df')\n",
    "                   .flat_map('df', 'data', lambda df: df.values.tolist())\n",
    "                   .map('data', 'res', ops.ann_insert.milvus_client(host='127.0.0.1', \n",
    "                                                                    port='19530',\n",
    "                                                                    collection_name='search_article_in_medium'))\n",
    "                   .output('res')\n",
    ")"
   ]
  },
  {
   "cell_type": "code",
   "execution_count": 5,
   "metadata": {},
   "outputs": [
    {
     "name": "stdout",
     "output_type": "stream",
     "text": [
      "CPU times: user 6.39 s, sys: 1.44 s, total: 7.83 s\n",
      "Wall time: 39 s\n"
     ]
    }
   ],
   "source": [
    "# Insert Data \n",
    "%time _ = insert_pipe(df)"
   ]
  },
  {
   "cell_type": "code",
   "execution_count": 6,
   "metadata": {},
   "outputs": [
    {
     "data": {
      "text/plain": [
       "4337"
      ]
     },
     "execution_count": 6,
     "metadata": {},
     "output_type": "execute_result"
    }
   ],
   "source": [
    "# We need to call collection.load() to load the data after inserting the data\n",
    "# collection.num_entities to get the number of vectors in the collection\n",
    "collection.load()\n",
    "collection.num_entities"
   ]
  },
  {
   "cell_type": "code",
   "execution_count": null,
   "metadata": {},
   "outputs": [],
   "source": [
    "## Search one text in Milvus\n",
    "- The retrieval process also to generate the text embedding of the query text, then search for similar vectors in Milvus, and finally return the result, which contains id(primary_key) and score. \n",
    "- For example, we can search for \"funny python demo\":"
   ]
  },
  {
   "cell_type": "code",
   "execution_count": 7,
   "metadata": {},
   "outputs": [
    {
     "name": "stderr",
     "output_type": "stream",
     "text": [
      "Downloading https://towhee.io/text-embedding/dpr/resolve/branch/main/dpr.py to /Users/nguyenbang/.towhee/operators/text-embedding/dpr/files: 100%|██████████| 2.21k/2.21k [00:00<00:00, 1.65MB/s]\n",
      "Downloading https://towhee.io/text-embedding/dpr/resolve/branch/main/requirements.txt to /Users/nguyenbang/.towhee/operators/text-embedding/dpr/files: 100%|██████████| 55.0/55.0 [00:00<00:00, 42.2kB/s]\n",
      "Downloading https://towhee.io/text-embedding/dpr/resolve/branch/main/README.md to /Users/nguyenbang/.towhee/operators/text-embedding/dpr/files: 100%|██████████| 2.09k/2.09k [00:00<00:00, 1.94MB/s]\n",
      "Downloading https://towhee.io/text-embedding/dpr/resolve/branch/main/__init__.py to /Users/nguyenbang/.towhee/operators/text-embedding/dpr/files: 100%|██████████| 660/660 [00:00<00:00, 815kB/s]\n",
      "Downloading https://towhee.io/text-embedding/dpr/resolve/branch/main/.gitattributes to /Users/nguyenbang/.towhee/operators/text-embedding/dpr/files: 100%|██████████| 1.18k/1.18k [00:00<00:00, 331kB/s]\n",
      "Downloading https://towhee.io/text-embedding/dpr/resolve/branch/main/result.png to /Users/nguyenbang/.towhee/operators/text-embedding/dpr/files: 100%|██████████| 5.74k/5.74k [00:00<00:00, 165kB/s]\n"
     ]
    },
    {
     "name": "stdout",
     "output_type": "stream",
     "text": [
      "Requirement already satisfied: numpy in /Users/nguyenbang/.virtualenvs/vector-database-milvus/lib/python3.9/site-packages (from -r /Users/nguyenbang/.towhee/operators/text-embedding/dpr/versions/main/requirements.txt (line 1)) (1.26.0)\n",
      "Collecting transformers (from -r /Users/nguyenbang/.towhee/operators/text-embedding/dpr/versions/main/requirements.txt (line 2))\n",
      "  Obtaining dependency information for transformers from https://files.pythonhosted.org/packages/98/46/f6a79f944d5c7763a9bc13b2aa6ac72daf43a6551f5fb03bccf0a9c2fec1/transformers-4.33.3-py3-none-any.whl.metadata\n",
      "  Downloading transformers-4.33.3-py3-none-any.whl.metadata (119 kB)\n",
      "\u001b[2K     \u001b[90m━━━━━━━━━━━━━━━━━━━━━━━━━━━━━━━━━━━━━\u001b[0m \u001b[32m119.9/119.9 kB\u001b[0m \u001b[31m896.0 kB/s\u001b[0m eta \u001b[36m0:00:00\u001b[0ma \u001b[36m0:00:01\u001b[0m\n",
      "\u001b[?25hCollecting sentencepiece (from -r /Users/nguyenbang/.towhee/operators/text-embedding/dpr/versions/main/requirements.txt (line 3))\n",
      "  Downloading sentencepiece-0.1.99-cp39-cp39-macosx_11_0_arm64.whl (1.2 MB)\n",
      "\u001b[2K     \u001b[90m━━━━━━━━━━━━━━━━━━━━━━━━━━━━━━━━━━━━━━━━\u001b[0m \u001b[32m1.2/1.2 MB\u001b[0m \u001b[31m5.9 MB/s\u001b[0m eta \u001b[36m0:00:00\u001b[0ma \u001b[36m0:00:01\u001b[0m\n",
      "\u001b[?25hRequirement already satisfied: protobuf in /Users/nguyenbang/.virtualenvs/vector-database-milvus/lib/python3.9/site-packages (from -r /Users/nguyenbang/.towhee/operators/text-embedding/dpr/versions/main/requirements.txt (line 4)) (4.24.3)\n",
      "Requirement already satisfied: towhee in /Users/nguyenbang/.virtualenvs/vector-database-milvus/lib/python3.9/site-packages (from -r /Users/nguyenbang/.towhee/operators/text-embedding/dpr/versions/main/requirements.txt (line 5)) (1.1.2)\n",
      "Requirement already satisfied: torch in /Users/nguyenbang/.virtualenvs/vector-database-milvus/lib/python3.9/site-packages (from -r /Users/nguyenbang/.towhee/operators/text-embedding/dpr/versions/main/requirements.txt (line 6)) (2.0.1)\n",
      "Requirement already satisfied: filelock in /Users/nguyenbang/.virtualenvs/vector-database-milvus/lib/python3.9/site-packages (from transformers->-r /Users/nguyenbang/.towhee/operators/text-embedding/dpr/versions/main/requirements.txt (line 2)) (3.12.4)\n",
      "Collecting huggingface-hub<1.0,>=0.15.1 (from transformers->-r /Users/nguyenbang/.towhee/operators/text-embedding/dpr/versions/main/requirements.txt (line 2))\n",
      "  Obtaining dependency information for huggingface-hub<1.0,>=0.15.1 from https://files.pythonhosted.org/packages/aa/f3/3fc97336a0e90516901befd4f500f08d691034d387406fdbde85bea827cc/huggingface_hub-0.17.3-py3-none-any.whl.metadata\n",
      "  Downloading huggingface_hub-0.17.3-py3-none-any.whl.metadata (13 kB)\n",
      "Requirement already satisfied: packaging>=20.0 in /Users/nguyenbang/.virtualenvs/vector-database-milvus/lib/python3.9/site-packages (from transformers->-r /Users/nguyenbang/.towhee/operators/text-embedding/dpr/versions/main/requirements.txt (line 2)) (23.1)\n",
      "Collecting pyyaml>=5.1 (from transformers->-r /Users/nguyenbang/.towhee/operators/text-embedding/dpr/versions/main/requirements.txt (line 2))\n",
      "  Obtaining dependency information for pyyaml>=5.1 from https://files.pythonhosted.org/packages/0e/88/21b2f16cb2123c1e9375f2c93486e35fdc86e63f02e274f0e99c589ef153/PyYAML-6.0.1-cp39-cp39-macosx_11_0_arm64.whl.metadata\n",
      "  Downloading PyYAML-6.0.1-cp39-cp39-macosx_11_0_arm64.whl.metadata (2.1 kB)\n",
      "Collecting regex!=2019.12.17 (from transformers->-r /Users/nguyenbang/.towhee/operators/text-embedding/dpr/versions/main/requirements.txt (line 2))\n",
      "  Obtaining dependency information for regex!=2019.12.17 from https://files.pythonhosted.org/packages/fe/61/3e64c3a4eb93d70d09e1f32185bbc9c15631d294471835f542222bd5a01d/regex-2023.8.8-cp39-cp39-macosx_11_0_arm64.whl.metadata\n",
      "  Downloading regex-2023.8.8-cp39-cp39-macosx_11_0_arm64.whl.metadata (40 kB)\n",
      "\u001b[2K     \u001b[90m━━━━━━━━━━━━━━━━━━━━━━━━━━━━━━━━━━━━━━━\u001b[0m \u001b[32m40.9/40.9 kB\u001b[0m \u001b[31m815.7 kB/s\u001b[0m eta \u001b[36m0:00:00\u001b[0ma \u001b[36m0:00:01\u001b[0m\n",
      "\u001b[?25hRequirement already satisfied: requests in /Users/nguyenbang/.virtualenvs/vector-database-milvus/lib/python3.9/site-packages (from transformers->-r /Users/nguyenbang/.towhee/operators/text-embedding/dpr/versions/main/requirements.txt (line 2)) (2.31.0)\n",
      "Collecting tokenizers!=0.11.3,<0.14,>=0.11.1 (from transformers->-r /Users/nguyenbang/.towhee/operators/text-embedding/dpr/versions/main/requirements.txt (line 2))\n",
      "  Downloading tokenizers-0.13.3-cp39-cp39-macosx_12_0_arm64.whl (3.9 MB)\n",
      "\u001b[2K     \u001b[90m━━━━━━━━━━━━━━━━━━━━━━━━━━━━━━━━━━━━━━━━\u001b[0m \u001b[32m3.9/3.9 MB\u001b[0m \u001b[31m25.9 MB/s\u001b[0m eta \u001b[36m0:00:00\u001b[0ma \u001b[36m0:00:01\u001b[0m\n",
      "\u001b[?25hCollecting safetensors>=0.3.1 (from transformers->-r /Users/nguyenbang/.towhee/operators/text-embedding/dpr/versions/main/requirements.txt (line 2))\n",
      "  Obtaining dependency information for safetensors>=0.3.1 from https://files.pythonhosted.org/packages/e4/b5/792a8ba02aac23bf4c500467016472775085c616d0fc5f30aa70037380c3/safetensors-0.3.3-cp39-cp39-macosx_13_0_arm64.whl.metadata\n",
      "  Downloading safetensors-0.3.3-cp39-cp39-macosx_13_0_arm64.whl.metadata (4.7 kB)\n",
      "Requirement already satisfied: tqdm>=4.27 in /Users/nguyenbang/.virtualenvs/vector-database-milvus/lib/python3.9/site-packages (from transformers->-r /Users/nguyenbang/.towhee/operators/text-embedding/dpr/versions/main/requirements.txt (line 2)) (4.66.1)\n",
      "Requirement already satisfied: tabulate in /Users/nguyenbang/.virtualenvs/vector-database-milvus/lib/python3.9/site-packages (from towhee->-r /Users/nguyenbang/.towhee/operators/text-embedding/dpr/versions/main/requirements.txt (line 5)) (0.9.0)\n",
      "Requirement already satisfied: twine in /Users/nguyenbang/.virtualenvs/vector-database-milvus/lib/python3.9/site-packages (from towhee->-r /Users/nguyenbang/.towhee/operators/text-embedding/dpr/versions/main/requirements.txt (line 5)) (4.0.2)\n",
      "Requirement already satisfied: tenacity in /Users/nguyenbang/.virtualenvs/vector-database-milvus/lib/python3.9/site-packages (from towhee->-r /Users/nguyenbang/.towhee/operators/text-embedding/dpr/versions/main/requirements.txt (line 5)) (8.2.3)\n",
      "Requirement already satisfied: pydantic<2 in /Users/nguyenbang/.virtualenvs/vector-database-milvus/lib/python3.9/site-packages (from towhee->-r /Users/nguyenbang/.towhee/operators/text-embedding/dpr/versions/main/requirements.txt (line 5)) (1.10.13)\n",
      "Requirement already satisfied: typing-extensions in /Users/nguyenbang/.virtualenvs/vector-database-milvus/lib/python3.9/site-packages (from torch->-r /Users/nguyenbang/.towhee/operators/text-embedding/dpr/versions/main/requirements.txt (line 6)) (4.8.0)\n",
      "Requirement already satisfied: sympy in /Users/nguyenbang/.virtualenvs/vector-database-milvus/lib/python3.9/site-packages (from torch->-r /Users/nguyenbang/.towhee/operators/text-embedding/dpr/versions/main/requirements.txt (line 6)) (1.12)\n",
      "Requirement already satisfied: networkx in /Users/nguyenbang/.virtualenvs/vector-database-milvus/lib/python3.9/site-packages (from torch->-r /Users/nguyenbang/.towhee/operators/text-embedding/dpr/versions/main/requirements.txt (line 6)) (3.1)\n",
      "Requirement already satisfied: jinja2 in /Users/nguyenbang/.virtualenvs/vector-database-milvus/lib/python3.9/site-packages (from torch->-r /Users/nguyenbang/.towhee/operators/text-embedding/dpr/versions/main/requirements.txt (line 6)) (3.1.2)\n",
      "Collecting fsspec (from huggingface-hub<1.0,>=0.15.1->transformers->-r /Users/nguyenbang/.towhee/operators/text-embedding/dpr/versions/main/requirements.txt (line 2))\n",
      "  Obtaining dependency information for fsspec from https://files.pythonhosted.org/packages/fe/d3/e1aa96437d944fbb9cc95d0316e25583886e9cd9e6adc07baad943524eda/fsspec-2023.9.2-py3-none-any.whl.metadata\n",
      "  Downloading fsspec-2023.9.2-py3-none-any.whl.metadata (6.7 kB)\n",
      "Requirement already satisfied: charset-normalizer<4,>=2 in /Users/nguyenbang/.virtualenvs/vector-database-milvus/lib/python3.9/site-packages (from requests->transformers->-r /Users/nguyenbang/.towhee/operators/text-embedding/dpr/versions/main/requirements.txt (line 2)) (3.3.0)\n",
      "Requirement already satisfied: idna<4,>=2.5 in /Users/nguyenbang/.virtualenvs/vector-database-milvus/lib/python3.9/site-packages (from requests->transformers->-r /Users/nguyenbang/.towhee/operators/text-embedding/dpr/versions/main/requirements.txt (line 2)) (3.4)\n",
      "Requirement already satisfied: urllib3<3,>=1.21.1 in /Users/nguyenbang/.virtualenvs/vector-database-milvus/lib/python3.9/site-packages (from requests->transformers->-r /Users/nguyenbang/.towhee/operators/text-embedding/dpr/versions/main/requirements.txt (line 2)) (2.0.5)\n",
      "Requirement already satisfied: certifi>=2017.4.17 in /Users/nguyenbang/.virtualenvs/vector-database-milvus/lib/python3.9/site-packages (from requests->transformers->-r /Users/nguyenbang/.towhee/operators/text-embedding/dpr/versions/main/requirements.txt (line 2)) (2023.7.22)\n",
      "Requirement already satisfied: MarkupSafe>=2.0 in /Users/nguyenbang/.virtualenvs/vector-database-milvus/lib/python3.9/site-packages (from jinja2->torch->-r /Users/nguyenbang/.towhee/operators/text-embedding/dpr/versions/main/requirements.txt (line 6)) (2.1.3)\n",
      "Requirement already satisfied: mpmath>=0.19 in /Users/nguyenbang/.virtualenvs/vector-database-milvus/lib/python3.9/site-packages (from sympy->torch->-r /Users/nguyenbang/.towhee/operators/text-embedding/dpr/versions/main/requirements.txt (line 6)) (1.3.0)\n",
      "Requirement already satisfied: pkginfo>=1.8.1 in /Users/nguyenbang/.virtualenvs/vector-database-milvus/lib/python3.9/site-packages (from twine->towhee->-r /Users/nguyenbang/.towhee/operators/text-embedding/dpr/versions/main/requirements.txt (line 5)) (1.9.6)\n",
      "Requirement already satisfied: readme-renderer>=35.0 in /Users/nguyenbang/.virtualenvs/vector-database-milvus/lib/python3.9/site-packages (from twine->towhee->-r /Users/nguyenbang/.towhee/operators/text-embedding/dpr/versions/main/requirements.txt (line 5)) (42.0)\n",
      "Requirement already satisfied: requests-toolbelt!=0.9.0,>=0.8.0 in /Users/nguyenbang/.virtualenvs/vector-database-milvus/lib/python3.9/site-packages (from twine->towhee->-r /Users/nguyenbang/.towhee/operators/text-embedding/dpr/versions/main/requirements.txt (line 5)) (1.0.0)\n",
      "Requirement already satisfied: importlib-metadata>=3.6 in /Users/nguyenbang/.virtualenvs/vector-database-milvus/lib/python3.9/site-packages (from twine->towhee->-r /Users/nguyenbang/.towhee/operators/text-embedding/dpr/versions/main/requirements.txt (line 5)) (6.8.0)\n",
      "Requirement already satisfied: keyring>=15.1 in /Users/nguyenbang/.virtualenvs/vector-database-milvus/lib/python3.9/site-packages (from twine->towhee->-r /Users/nguyenbang/.towhee/operators/text-embedding/dpr/versions/main/requirements.txt (line 5)) (24.2.0)\n",
      "Requirement already satisfied: rfc3986>=1.4.0 in /Users/nguyenbang/.virtualenvs/vector-database-milvus/lib/python3.9/site-packages (from twine->towhee->-r /Users/nguyenbang/.towhee/operators/text-embedding/dpr/versions/main/requirements.txt (line 5)) (2.0.0)\n",
      "Requirement already satisfied: rich>=12.0.0 in /Users/nguyenbang/.virtualenvs/vector-database-milvus/lib/python3.9/site-packages (from twine->towhee->-r /Users/nguyenbang/.towhee/operators/text-embedding/dpr/versions/main/requirements.txt (line 5)) (13.6.0)\n",
      "Requirement already satisfied: zipp>=0.5 in /Users/nguyenbang/.virtualenvs/vector-database-milvus/lib/python3.9/site-packages (from importlib-metadata>=3.6->twine->towhee->-r /Users/nguyenbang/.towhee/operators/text-embedding/dpr/versions/main/requirements.txt (line 5)) (3.17.0)\n",
      "Requirement already satisfied: jaraco.classes in /Users/nguyenbang/.virtualenvs/vector-database-milvus/lib/python3.9/site-packages (from keyring>=15.1->twine->towhee->-r /Users/nguyenbang/.towhee/operators/text-embedding/dpr/versions/main/requirements.txt (line 5)) (3.3.0)\n",
      "Requirement already satisfied: nh3>=0.2.14 in /Users/nguyenbang/.virtualenvs/vector-database-milvus/lib/python3.9/site-packages (from readme-renderer>=35.0->twine->towhee->-r /Users/nguyenbang/.towhee/operators/text-embedding/dpr/versions/main/requirements.txt (line 5)) (0.2.14)\n",
      "Requirement already satisfied: docutils>=0.13.1 in /Users/nguyenbang/.virtualenvs/vector-database-milvus/lib/python3.9/site-packages (from readme-renderer>=35.0->twine->towhee->-r /Users/nguyenbang/.towhee/operators/text-embedding/dpr/versions/main/requirements.txt (line 5)) (0.20.1)\n",
      "Requirement already satisfied: Pygments>=2.5.1 in /Users/nguyenbang/.virtualenvs/vector-database-milvus/lib/python3.9/site-packages (from readme-renderer>=35.0->twine->towhee->-r /Users/nguyenbang/.towhee/operators/text-embedding/dpr/versions/main/requirements.txt (line 5)) (2.16.1)\n",
      "Requirement already satisfied: markdown-it-py>=2.2.0 in /Users/nguyenbang/.virtualenvs/vector-database-milvus/lib/python3.9/site-packages (from rich>=12.0.0->twine->towhee->-r /Users/nguyenbang/.towhee/operators/text-embedding/dpr/versions/main/requirements.txt (line 5)) (3.0.0)\n",
      "Requirement already satisfied: mdurl~=0.1 in /Users/nguyenbang/.virtualenvs/vector-database-milvus/lib/python3.9/site-packages (from markdown-it-py>=2.2.0->rich>=12.0.0->twine->towhee->-r /Users/nguyenbang/.towhee/operators/text-embedding/dpr/versions/main/requirements.txt (line 5)) (0.1.2)\n",
      "Requirement already satisfied: more-itertools in /Users/nguyenbang/.virtualenvs/vector-database-milvus/lib/python3.9/site-packages (from jaraco.classes->keyring>=15.1->twine->towhee->-r /Users/nguyenbang/.towhee/operators/text-embedding/dpr/versions/main/requirements.txt (line 5)) (10.1.0)\n",
      "Downloading transformers-4.33.3-py3-none-any.whl (7.6 MB)\n",
      "\u001b[2K   \u001b[90m━━━━━━━━━━━━━━━━━━━━━━━━━━━━━━━━━━━━━━━━\u001b[0m \u001b[32m7.6/7.6 MB\u001b[0m \u001b[31m26.8 MB/s\u001b[0m eta \u001b[36m0:00:00\u001b[0ma \u001b[36m0:00:01\u001b[0m\n",
      "\u001b[?25hDownloading huggingface_hub-0.17.3-py3-none-any.whl (295 kB)\n",
      "\u001b[2K   \u001b[90m━━━━━━━━━━━━━━━━━━━━━━━━━━━━━━━━━━━━━━━━\u001b[0m \u001b[32m295.0/295.0 kB\u001b[0m \u001b[31m6.4 MB/s\u001b[0m eta \u001b[36m0:00:00\u001b[0mta \u001b[36m0:00:01\u001b[0m\n",
      "\u001b[?25hDownloading PyYAML-6.0.1-cp39-cp39-macosx_11_0_arm64.whl (174 kB)\n",
      "\u001b[2K   \u001b[90m━━━━━━━━━━━━━━━━━━━━━━━━━━━━━━━━━━━━━━━━\u001b[0m \u001b[32m174.4/174.4 kB\u001b[0m \u001b[31m3.9 MB/s\u001b[0m eta \u001b[36m0:00:00\u001b[0m00:01\u001b[0m\n",
      "\u001b[?25hDownloading regex-2023.8.8-cp39-cp39-macosx_11_0_arm64.whl (289 kB)\n",
      "\u001b[2K   \u001b[90m━━━━━━━━━━━━━━━━━━━━━━━━━━━━━━━━━━━━━━━━\u001b[0m \u001b[32m289.3/289.3 kB\u001b[0m \u001b[31m4.8 MB/s\u001b[0m eta \u001b[36m0:00:00\u001b[0mta \u001b[36m0:00:01\u001b[0m\n",
      "\u001b[?25hDownloading safetensors-0.3.3-cp39-cp39-macosx_13_0_arm64.whl (407 kB)\n",
      "\u001b[2K   \u001b[90m━━━━━━━━━━━━━━━━━━━━━━━━━━━━━━━━━━━━━━━━\u001b[0m \u001b[32m407.4/407.4 kB\u001b[0m \u001b[31m8.4 MB/s\u001b[0m eta \u001b[36m0:00:00\u001b[0m:00:01\u001b[0m\n",
      "\u001b[?25hDownloading fsspec-2023.9.2-py3-none-any.whl (173 kB)\n",
      "\u001b[2K   \u001b[90m━━━━━━━━━━━━━━━━━━━━━━━━━━━━━━━━━━━━━━━━\u001b[0m \u001b[32m173.4/173.4 kB\u001b[0m \u001b[31m1.8 MB/s\u001b[0m eta \u001b[36m0:00:00\u001b[0mta \u001b[36m0:00:01\u001b[0m\n",
      "\u001b[?25hInstalling collected packages: tokenizers, sentencepiece, safetensors, regex, pyyaml, fsspec, huggingface-hub, transformers\n",
      "Successfully installed fsspec-2023.9.2 huggingface-hub-0.17.3 pyyaml-6.0.1 regex-2023.8.8 safetensors-0.3.3 sentencepiece-0.1.99 tokenizers-0.13.3 transformers-4.33.3\n"
     ]
    },
    {
     "name": "stderr",
     "output_type": "stream",
     "text": [
      "/Users/nguyenbang/.virtualenvs/vector-database-milvus/lib/python3.9/site-packages/tqdm/auto.py:21: TqdmWarning: IProgress not found. Please update jupyter and ipywidgets. See https://ipywidgets.readthedocs.io/en/stable/user_install.html\n",
      "  from .autonotebook import tqdm as notebook_tqdm\n",
      "Downloading (…)okenizer_config.json: 100%|██████████| 28.0/28.0 [00:00<00:00, 24.2kB/s]\n",
      "Downloading (…)solve/main/vocab.txt: 100%|██████████| 232k/232k [00:01<00:00, 175kB/s]\n",
      "Downloading (…)/main/tokenizer.json: 100%|██████████| 466k/466k [00:01<00:00, 288kB/s]\n",
      "Downloading (…)lve/main/config.json: 100%|██████████| 492/492 [00:00<00:00, 2.29MB/s]\n",
      "Downloading pytorch_model.bin: 100%|██████████| 438M/438M [00:41<00:00, 10.5MB/s] \n",
      "Downloading https://towhee.io/ann-search/milvus-client/resolve/branch/main/.gitattributes to /Users/nguyenbang/.towhee/operators/ann-search/milvus-client/files: 100%|██████████| 1.18k/1.18k [00:00<00:00, 1.50MB/s]\n",
      "Downloading https://towhee.io/ann-search/milvus-client/resolve/branch/main/README.md to /Users/nguyenbang/.towhee/operators/ann-search/milvus-client/files: 100%|██████████| 1.58k/1.58k [00:00<00:00, 791kB/s]\n",
      "Downloading https://towhee.io/ann-search/milvus-client/resolve/branch/main/milvus_client.py to /Users/nguyenbang/.towhee/operators/ann-search/milvus-client/files: 100%|██████████| 4.37k/4.37k [00:00<00:00, 142kB/s]\n",
      "Downloading https://towhee.io/ann-search/milvus-client/resolve/branch/main/requirements.txt to /Users/nguyenbang/.towhee/operators/ann-search/milvus-client/files: 100%|██████████| 9.00/9.00 [00:00<00:00, 1.74kB/s]\n",
      "Downloading https://towhee.io/ann-search/milvus-client/resolve/branch/main/__init__.py to /Users/nguyenbang/.towhee/operators/ann-search/milvus-client/files: 100%|██████████| 119/119 [00:00<00:00, 10.1kB/s]\n"
     ]
    },
    {
     "name": "stdout",
     "output_type": "stream",
     "text": [
      "Requirement already satisfied: pymilvus in /Users/nguyenbang/.virtualenvs/vector-database-milvus/lib/python3.9/site-packages (from -r /Users/nguyenbang/.towhee/operators/ann-search/milvus-client/versions/main/requirements.txt (line 1)) (2.3.1)\n",
      "Requirement already satisfied: grpcio<=1.58.0,>=1.49.1 in /Users/nguyenbang/.virtualenvs/vector-database-milvus/lib/python3.9/site-packages (from pymilvus->-r /Users/nguyenbang/.towhee/operators/ann-search/milvus-client/versions/main/requirements.txt (line 1)) (1.58.0)\n",
      "Requirement already satisfied: protobuf>=3.20.0 in /Users/nguyenbang/.virtualenvs/vector-database-milvus/lib/python3.9/site-packages (from pymilvus->-r /Users/nguyenbang/.towhee/operators/ann-search/milvus-client/versions/main/requirements.txt (line 1)) (4.24.3)\n",
      "Requirement already satisfied: environs<=9.5.0 in /Users/nguyenbang/.virtualenvs/vector-database-milvus/lib/python3.9/site-packages (from pymilvus->-r /Users/nguyenbang/.towhee/operators/ann-search/milvus-client/versions/main/requirements.txt (line 1)) (9.5.0)\n",
      "Requirement already satisfied: ujson>=2.0.0 in /Users/nguyenbang/.virtualenvs/vector-database-milvus/lib/python3.9/site-packages (from pymilvus->-r /Users/nguyenbang/.towhee/operators/ann-search/milvus-client/versions/main/requirements.txt (line 1)) (5.8.0)\n",
      "Requirement already satisfied: pandas>=1.2.4 in /Users/nguyenbang/.virtualenvs/vector-database-milvus/lib/python3.9/site-packages (from pymilvus->-r /Users/nguyenbang/.towhee/operators/ann-search/milvus-client/versions/main/requirements.txt (line 1)) (2.1.1)\n",
      "Requirement already satisfied: requests in /Users/nguyenbang/.virtualenvs/vector-database-milvus/lib/python3.9/site-packages (from pymilvus->-r /Users/nguyenbang/.towhee/operators/ann-search/milvus-client/versions/main/requirements.txt (line 1)) (2.31.0)\n",
      "Requirement already satisfied: minio in /Users/nguyenbang/.virtualenvs/vector-database-milvus/lib/python3.9/site-packages (from pymilvus->-r /Users/nguyenbang/.towhee/operators/ann-search/milvus-client/versions/main/requirements.txt (line 1)) (7.1.16)\n",
      "Requirement already satisfied: marshmallow>=3.0.0 in /Users/nguyenbang/.virtualenvs/vector-database-milvus/lib/python3.9/site-packages (from environs<=9.5.0->pymilvus->-r /Users/nguyenbang/.towhee/operators/ann-search/milvus-client/versions/main/requirements.txt (line 1)) (3.20.1)\n",
      "Requirement already satisfied: python-dotenv in /Users/nguyenbang/.virtualenvs/vector-database-milvus/lib/python3.9/site-packages (from environs<=9.5.0->pymilvus->-r /Users/nguyenbang/.towhee/operators/ann-search/milvus-client/versions/main/requirements.txt (line 1)) (1.0.0)\n",
      "Requirement already satisfied: numpy>=1.22.4 in /Users/nguyenbang/.virtualenvs/vector-database-milvus/lib/python3.9/site-packages (from pandas>=1.2.4->pymilvus->-r /Users/nguyenbang/.towhee/operators/ann-search/milvus-client/versions/main/requirements.txt (line 1)) (1.26.0)\n",
      "Requirement already satisfied: python-dateutil>=2.8.2 in /Users/nguyenbang/.virtualenvs/vector-database-milvus/lib/python3.9/site-packages (from pandas>=1.2.4->pymilvus->-r /Users/nguyenbang/.towhee/operators/ann-search/milvus-client/versions/main/requirements.txt (line 1)) (2.8.2)\n",
      "Requirement already satisfied: pytz>=2020.1 in /Users/nguyenbang/.virtualenvs/vector-database-milvus/lib/python3.9/site-packages (from pandas>=1.2.4->pymilvus->-r /Users/nguyenbang/.towhee/operators/ann-search/milvus-client/versions/main/requirements.txt (line 1)) (2023.3.post1)\n",
      "Requirement already satisfied: tzdata>=2022.1 in /Users/nguyenbang/.virtualenvs/vector-database-milvus/lib/python3.9/site-packages (from pandas>=1.2.4->pymilvus->-r /Users/nguyenbang/.towhee/operators/ann-search/milvus-client/versions/main/requirements.txt (line 1)) (2023.3)\n",
      "Requirement already satisfied: certifi in /Users/nguyenbang/.virtualenvs/vector-database-milvus/lib/python3.9/site-packages (from minio->pymilvus->-r /Users/nguyenbang/.towhee/operators/ann-search/milvus-client/versions/main/requirements.txt (line 1)) (2023.7.22)\n",
      "Requirement already satisfied: urllib3 in /Users/nguyenbang/.virtualenvs/vector-database-milvus/lib/python3.9/site-packages (from minio->pymilvus->-r /Users/nguyenbang/.towhee/operators/ann-search/milvus-client/versions/main/requirements.txt (line 1)) (2.0.5)\n",
      "Requirement already satisfied: charset-normalizer<4,>=2 in /Users/nguyenbang/.virtualenvs/vector-database-milvus/lib/python3.9/site-packages (from requests->pymilvus->-r /Users/nguyenbang/.towhee/operators/ann-search/milvus-client/versions/main/requirements.txt (line 1)) (3.3.0)\n",
      "Requirement already satisfied: idna<4,>=2.5 in /Users/nguyenbang/.virtualenvs/vector-database-milvus/lib/python3.9/site-packages (from requests->pymilvus->-r /Users/nguyenbang/.towhee/operators/ann-search/milvus-client/versions/main/requirements.txt (line 1)) (3.4)\n",
      "Requirement already satisfied: packaging>=17.0 in /Users/nguyenbang/.virtualenvs/vector-database-milvus/lib/python3.9/site-packages (from marshmallow>=3.0.0->environs<=9.5.0->pymilvus->-r /Users/nguyenbang/.towhee/operators/ann-search/milvus-client/versions/main/requirements.txt (line 1)) (23.1)\n",
      "Requirement already satisfied: six>=1.5 in /Users/nguyenbang/.virtualenvs/vector-database-milvus/lib/python3.9/site-packages (from python-dateutil>=2.8.2->pandas>=1.2.4->pymilvus->-r /Users/nguyenbang/.towhee/operators/ann-search/milvus-client/versions/main/requirements.txt (line 1)) (1.16.0)\n"
     ]
    }
   ],
   "source": [
    "import numpy as np\n",
    "\n",
    "search_pipe = (pipe.input('query')\n",
    "                    .map('query', 'vec', ops.text_embedding.dpr(model_name=\"facebook/dpr-ctx_encoder-single-nq-base\"))\n",
    "                    .map('vec', 'vec', lambda x: x / np.linalg.norm(x, axis=0))\n",
    "                    .flat_map('vec', ('id', 'score'), ops.ann_search.milvus_client(host='127.0.0.1', \n",
    "                                                                                   port='19530',\n",
    "                                                                                   collection_name='search_article_in_medium'))  \n",
    "                    .output('query', 'id', 'score')\n",
    "               )"
   ]
  },
  {
   "cell_type": "code",
   "execution_count": 8,
   "metadata": {},
   "outputs": [
    {
     "data": {
      "text/html": [
       "<table style=\"border-collapse: collapse;\"><tr><th style=\"text-align: center; font-size: 130%; border: none;\">query</th> <th style=\"text-align: center; font-size: 130%; border: none;\">id</th> <th style=\"text-align: center; font-size: 130%; border: none;\">score</th></tr>\n",
       "<tr><td style=\"text-align: center; vertical-align: top; border-right: solid 1px #D3D3D3; border-left: solid 1px #D3D3D3; \">funny python demo</td><td style=\"text-align: center; vertical-align: top; border-right: solid 1px #D3D3D3; border-left: solid 1px #D3D3D3; \">3897</td><td style=\"text-align: center; vertical-align: top; border-right: solid 1px #D3D3D3; border-left: solid 1px #D3D3D3; \">0.3737611472606659</td></tr>\n",
       "<tr><td style=\"text-align: center; vertical-align: top; border-right: solid 1px #D3D3D3; border-left: solid 1px #D3D3D3; \">funny python demo</td><td style=\"text-align: center; vertical-align: top; border-right: solid 1px #D3D3D3; border-left: solid 1px #D3D3D3; \">1342</td><td style=\"text-align: center; vertical-align: top; border-right: solid 1px #D3D3D3; border-left: solid 1px #D3D3D3; \">0.43680649995803833</td></tr>\n",
       "<tr><td style=\"text-align: center; vertical-align: top; border-right: solid 1px #D3D3D3; border-left: solid 1px #D3D3D3; \">funny python demo</td><td style=\"text-align: center; vertical-align: top; border-right: solid 1px #D3D3D3; border-left: solid 1px #D3D3D3; \">1832</td><td style=\"text-align: center; vertical-align: top; border-right: solid 1px #D3D3D3; border-left: solid 1px #D3D3D3; \">0.4572385251522064</td></tr>\n",
       "<tr><td style=\"text-align: center; vertical-align: top; border-right: solid 1px #D3D3D3; border-left: solid 1px #D3D3D3; \">funny python demo</td><td style=\"text-align: center; vertical-align: top; border-right: solid 1px #D3D3D3; border-left: solid 1px #D3D3D3; \">5671</td><td style=\"text-align: center; vertical-align: top; border-right: solid 1px #D3D3D3; border-left: solid 1px #D3D3D3; \">0.459327757358551</td></tr>\n",
       "<tr><td style=\"text-align: center; vertical-align: top; border-right: solid 1px #D3D3D3; border-left: solid 1px #D3D3D3; \">funny python demo</td><td style=\"text-align: center; vertical-align: top; border-right: solid 1px #D3D3D3; border-left: solid 1px #D3D3D3; \">1752</td><td style=\"text-align: center; vertical-align: top; border-right: solid 1px #D3D3D3; border-left: solid 1px #D3D3D3; \">0.4645395874977112</td></tr></table>"
      ],
      "text/plain": [
       "<IPython.core.display.HTML object>"
      ]
     },
     "metadata": {},
     "output_type": "display_data"
    }
   ],
   "source": [
    "# Search multi text in Milvus\n",
    "# We can also retrieve multiple pieces of data, for example we can specify the array(['funny python demo', 'AI in data analysis']) \n",
    "# to search in batch, which will be retrieved in Milvus:\n",
    "res = search_pipe('funny python demo')\n",
    "DataCollection(res).show()"
   ]
  },
  {
   "cell_type": "code",
   "execution_count": 9,
   "metadata": {},
   "outputs": [
    {
     "data": {
      "text/html": [
       "<table style=\"border-collapse: collapse;\"><tr><th style=\"text-align: center; font-size: 130%; border: none;\">query</th> <th style=\"text-align: center; font-size: 130%; border: none;\">id</th> <th style=\"text-align: center; font-size: 130%; border: none;\">score</th></tr>\n",
       "<tr><td style=\"text-align: center; vertical-align: top; border-right: solid 1px #D3D3D3; border-left: solid 1px #D3D3D3; \">funny python demo</td><td style=\"text-align: center; vertical-align: top; border-right: solid 1px #D3D3D3; border-left: solid 1px #D3D3D3; \">3897</td><td style=\"text-align: center; vertical-align: top; border-right: solid 1px #D3D3D3; border-left: solid 1px #D3D3D3; \">0.3737611472606659</td></tr>\n",
       "<tr><td style=\"text-align: center; vertical-align: top; border-right: solid 1px #D3D3D3; border-left: solid 1px #D3D3D3; \">funny python demo</td><td style=\"text-align: center; vertical-align: top; border-right: solid 1px #D3D3D3; border-left: solid 1px #D3D3D3; \">1342</td><td style=\"text-align: center; vertical-align: top; border-right: solid 1px #D3D3D3; border-left: solid 1px #D3D3D3; \">0.43680649995803833</td></tr>\n",
       "<tr><td style=\"text-align: center; vertical-align: top; border-right: solid 1px #D3D3D3; border-left: solid 1px #D3D3D3; \">funny python demo</td><td style=\"text-align: center; vertical-align: top; border-right: solid 1px #D3D3D3; border-left: solid 1px #D3D3D3; \">1832</td><td style=\"text-align: center; vertical-align: top; border-right: solid 1px #D3D3D3; border-left: solid 1px #D3D3D3; \">0.4572385251522064</td></tr>\n",
       "<tr><td style=\"text-align: center; vertical-align: top; border-right: solid 1px #D3D3D3; border-left: solid 1px #D3D3D3; \">funny python demo</td><td style=\"text-align: center; vertical-align: top; border-right: solid 1px #D3D3D3; border-left: solid 1px #D3D3D3; \">5671</td><td style=\"text-align: center; vertical-align: top; border-right: solid 1px #D3D3D3; border-left: solid 1px #D3D3D3; \">0.459327757358551</td></tr>\n",
       "<tr><td style=\"text-align: center; vertical-align: top; border-right: solid 1px #D3D3D3; border-left: solid 1px #D3D3D3; \">funny python demo</td><td style=\"text-align: center; vertical-align: top; border-right: solid 1px #D3D3D3; border-left: solid 1px #D3D3D3; \">1752</td><td style=\"text-align: center; vertical-align: top; border-right: solid 1px #D3D3D3; border-left: solid 1px #D3D3D3; \">0.4645395874977112</td></tr></table>"
      ],
      "text/plain": [
       "<IPython.core.display.HTML object>"
      ]
     },
     "metadata": {},
     "output_type": "display_data"
    },
    {
     "data": {
      "text/html": [
       "<table style=\"border-collapse: collapse;\"><tr><th style=\"text-align: center; font-size: 130%; border: none;\">query</th> <th style=\"text-align: center; font-size: 130%; border: none;\">id</th> <th style=\"text-align: center; font-size: 130%; border: none;\">score</th></tr>\n",
       "<tr><td style=\"text-align: center; vertical-align: top; border-right: solid 1px #D3D3D3; border-left: solid 1px #D3D3D3; \">AI in data analysis</td><td style=\"text-align: center; vertical-align: top; border-right: solid 1px #D3D3D3; border-left: solid 1px #D3D3D3; \">3493</td><td style=\"text-align: center; vertical-align: top; border-right: solid 1px #D3D3D3; border-left: solid 1px #D3D3D3; \">0.2443670630455017</td></tr>\n",
       "<tr><td style=\"text-align: center; vertical-align: top; border-right: solid 1px #D3D3D3; border-left: solid 1px #D3D3D3; \">AI in data analysis</td><td style=\"text-align: center; vertical-align: top; border-right: solid 1px #D3D3D3; border-left: solid 1px #D3D3D3; \">4542</td><td style=\"text-align: center; vertical-align: top; border-right: solid 1px #D3D3D3; border-left: solid 1px #D3D3D3; \">0.24851201474666595</td></tr>\n",
       "<tr><td style=\"text-align: center; vertical-align: top; border-right: solid 1px #D3D3D3; border-left: solid 1px #D3D3D3; \">AI in data analysis</td><td style=\"text-align: center; vertical-align: top; border-right: solid 1px #D3D3D3; border-left: solid 1px #D3D3D3; \">2649</td><td style=\"text-align: center; vertical-align: top; border-right: solid 1px #D3D3D3; border-left: solid 1px #D3D3D3; \">0.2840428054332733</td></tr>\n",
       "<tr><td style=\"text-align: center; vertical-align: top; border-right: solid 1px #D3D3D3; border-left: solid 1px #D3D3D3; \">AI in data analysis</td><td style=\"text-align: center; vertical-align: top; border-right: solid 1px #D3D3D3; border-left: solid 1px #D3D3D3; \">4539</td><td style=\"text-align: center; vertical-align: top; border-right: solid 1px #D3D3D3; border-left: solid 1px #D3D3D3; \">0.3186829090118408</td></tr>\n",
       "<tr><td style=\"text-align: center; vertical-align: top; border-right: solid 1px #D3D3D3; border-left: solid 1px #D3D3D3; \">AI in data analysis</td><td style=\"text-align: center; vertical-align: top; border-right: solid 1px #D3D3D3; border-left: solid 1px #D3D3D3; \">5337</td><td style=\"text-align: center; vertical-align: top; border-right: solid 1px #D3D3D3; border-left: solid 1px #D3D3D3; \">0.322428435087204</td></tr></table>"
      ],
      "text/plain": [
       "<IPython.core.display.HTML object>"
      ]
     },
     "metadata": {},
     "output_type": "display_data"
    }
   ],
   "source": [
    "res = search_pipe.batch(['funny python demo', 'AI in data analysis'])\n",
    "for re in res:\n",
    "    DataCollection(re).show()"
   ]
  },
  {
   "attachments": {},
   "cell_type": "markdown",
   "metadata": {},
   "source": [
    "### Search text and return multi fields\n",
    "If we want to return more information when retrieving, we can set the output_fields parameter in ann_search.milvus operator. For example, in addition to id and score, we can also return title, link, claps, reading_time, and response:"
   ]
  },
  {
   "cell_type": "code",
   "execution_count": 10,
   "metadata": {},
   "outputs": [
    {
     "data": {
      "text/html": [
       "<table style=\"border-collapse: collapse;\"><tr><th style=\"text-align: center; font-size: 130%; border: none;\">query</th> <th style=\"text-align: center; font-size: 130%; border: none;\">id</th> <th style=\"text-align: center; font-size: 130%; border: none;\">score</th> <th style=\"text-align: center; font-size: 130%; border: none;\">title</th></tr>\n",
       "<tr><td style=\"text-align: center; vertical-align: top; border-right: solid 1px #D3D3D3; border-left: solid 1px #D3D3D3; \">funny python demo</td><td style=\"text-align: center; vertical-align: top; border-right: solid 1px #D3D3D3; border-left: solid 1px #D3D3D3; \">3897</td><td style=\"text-align: center; vertical-align: top; border-right: solid 1px #D3D3D3; border-left: solid 1px #D3D3D3; \">0.3737611472606659</td><td style=\"text-align: center; vertical-align: top; border-right: solid 1px #D3D3D3; border-left: solid 1px #D3D3D3; \">Python Coding for Kids — Setting Up For the Adventure</td></tr>\n",
       "<tr><td style=\"text-align: center; vertical-align: top; border-right: solid 1px #D3D3D3; border-left: solid 1px #D3D3D3; \">funny python demo</td><td style=\"text-align: center; vertical-align: top; border-right: solid 1px #D3D3D3; border-left: solid 1px #D3D3D3; \">1342</td><td style=\"text-align: center; vertical-align: top; border-right: solid 1px #D3D3D3; border-left: solid 1px #D3D3D3; \">0.43680649995803833</td><td style=\"text-align: center; vertical-align: top; border-right: solid 1px #D3D3D3; border-left: solid 1px #D3D3D3; \">How to Design Professional Venn Diagrams in Python</td></tr>\n",
       "<tr><td style=\"text-align: center; vertical-align: top; border-right: solid 1px #D3D3D3; border-left: solid 1px #D3D3D3; \">funny python demo</td><td style=\"text-align: center; vertical-align: top; border-right: solid 1px #D3D3D3; border-left: solid 1px #D3D3D3; \">1832</td><td style=\"text-align: center; vertical-align: top; border-right: solid 1px #D3D3D3; border-left: solid 1px #D3D3D3; \">0.4572385251522064</td><td style=\"text-align: center; vertical-align: top; border-right: solid 1px #D3D3D3; border-left: solid 1px #D3D3D3; \">How to mock AWS services for rapid local development.</td></tr>\n",
       "<tr><td style=\"text-align: center; vertical-align: top; border-right: solid 1px #D3D3D3; border-left: solid 1px #D3D3D3; \">funny python demo</td><td style=\"text-align: center; vertical-align: top; border-right: solid 1px #D3D3D3; border-left: solid 1px #D3D3D3; \">5671</td><td style=\"text-align: center; vertical-align: top; border-right: solid 1px #D3D3D3; border-left: solid 1px #D3D3D3; \">0.459327757358551</td><td style=\"text-align: center; vertical-align: top; border-right: solid 1px #D3D3D3; border-left: solid 1px #D3D3D3; \">Adventure into Machine Learning using Python</td></tr>\n",
       "<tr><td style=\"text-align: center; vertical-align: top; border-right: solid 1px #D3D3D3; border-left: solid 1px #D3D3D3; \">funny python demo</td><td style=\"text-align: center; vertical-align: top; border-right: solid 1px #D3D3D3; border-left: solid 1px #D3D3D3; \">1752</td><td style=\"text-align: center; vertical-align: top; border-right: solid 1px #D3D3D3; border-left: solid 1px #D3D3D3; \">0.4645395874977112</td><td style=\"text-align: center; vertical-align: top; border-right: solid 1px #D3D3D3; border-left: solid 1px #D3D3D3; \">Custom neural networks in Keras: a street fighter’s guide to build a graphCNN</td></tr></table>"
      ],
      "text/plain": [
       "<IPython.core.display.HTML object>"
      ]
     },
     "metadata": {},
     "output_type": "display_data"
    }
   ],
   "source": [
    "search_pipe1 = (pipe.input('query')\n",
    "                    .map('query', 'vec', ops.text_embedding.dpr(model_name=\"facebook/dpr-ctx_encoder-single-nq-base\"))\n",
    "                    .map('vec', 'vec', lambda x: x / np.linalg.norm(x, axis=0))\n",
    "                    .flat_map('vec', ('id', 'score', 'title'), ops.ann_search.milvus_client(host='127.0.0.1', \n",
    "                                                                                   port='19530',\n",
    "                                                                                   collection_name='search_article_in_medium',\n",
    "                                                                                   output_fields=['title']))  \n",
    "                    .output('query', 'id', 'score', 'title')\n",
    "               )\n",
    "\n",
    "res = search_pipe1('funny python demo')\n",
    "DataCollection(res).show()"
   ]
  },
  {
   "cell_type": "code",
   "execution_count": 11,
   "metadata": {},
   "outputs": [
    {
     "data": {
      "text/html": [
       "<table style=\"border-collapse: collapse;\"><tr><th style=\"text-align: center; font-size: 130%; border: none;\">query</th> <th style=\"text-align: center; font-size: 130%; border: none;\">id</th> <th style=\"text-align: center; font-size: 130%; border: none;\">score</th> <th style=\"text-align: center; font-size: 130%; border: none;\">title</th> <th style=\"text-align: center; font-size: 130%; border: none;\">link</th> <th style=\"text-align: center; font-size: 130%; border: none;\">reading_time</th> <th style=\"text-align: center; font-size: 130%; border: none;\">publication</th> <th style=\"text-align: center; font-size: 130%; border: none;\">claps</th> <th style=\"text-align: center; font-size: 130%; border: none;\">responses</th></tr>\n",
       "<tr><td style=\"text-align: center; vertical-align: top; border-right: solid 1px #D3D3D3; border-left: solid 1px #D3D3D3; \">funny python demo</td><td style=\"text-align: center; vertical-align: top; border-right: solid 1px #D3D3D3; border-left: solid 1px #D3D3D3; \">3897</td><td style=\"text-align: center; vertical-align: top; border-right: solid 1px #D3D3D3; border-left: solid 1px #D3D3D3; \">0.3737611472606659</td><td style=\"text-align: center; vertical-align: top; border-right: solid 1px #D3D3D3; border-left: solid 1px #D3D3D3; \">Python Coding for Kids — Setting Up For the Adventure</td><td style=\"text-align: center; vertical-align: top; border-right: solid 1px #D3D3D3; border-left: solid 1px #D3D3D3; \">https://medium.com/swlh/python-coding-for-kids-setting-up-for-the-adventure-9be4bef6b24e</td><td style=\"text-align: center; vertical-align: top; border-right: solid 1px #D3D3D3; border-left: solid 1px #D3D3D3; \">14</td><td style=\"text-align: center; vertical-align: top; border-right: solid 1px #D3D3D3; border-left: solid 1px #D3D3D3; \">The Startup</td><td style=\"text-align: center; vertical-align: top; border-right: solid 1px #D3D3D3; border-left: solid 1px #D3D3D3; \">119</td><td style=\"text-align: center; vertical-align: top; border-right: solid 1px #D3D3D3; border-left: solid 1px #D3D3D3; \">2</td></tr>\n",
       "<tr><td style=\"text-align: center; vertical-align: top; border-right: solid 1px #D3D3D3; border-left: solid 1px #D3D3D3; \">funny python demo</td><td style=\"text-align: center; vertical-align: top; border-right: solid 1px #D3D3D3; border-left: solid 1px #D3D3D3; \">1342</td><td style=\"text-align: center; vertical-align: top; border-right: solid 1px #D3D3D3; border-left: solid 1px #D3D3D3; \">0.43680649995803833</td><td style=\"text-align: center; vertical-align: top; border-right: solid 1px #D3D3D3; border-left: solid 1px #D3D3D3; \">How to Design Professional Venn Diagrams in Python</td><td style=\"text-align: center; vertical-align: top; border-right: solid 1px #D3D3D3; border-left: solid 1px #D3D3D3; \">https://towardsdatascience.com/how-to-design-professional-venn-diagrams-in-python-693c9ed2c288</td><td style=\"text-align: center; vertical-align: top; border-right: solid 1px #D3D3D3; border-left: solid 1px #D3D3D3; \">6</td><td style=\"text-align: center; vertical-align: top; border-right: solid 1px #D3D3D3; border-left: solid 1px #D3D3D3; \">Towards Data Science</td><td style=\"text-align: center; vertical-align: top; border-right: solid 1px #D3D3D3; border-left: solid 1px #D3D3D3; \">97</td><td style=\"text-align: center; vertical-align: top; border-right: solid 1px #D3D3D3; border-left: solid 1px #D3D3D3; \">1</td></tr>\n",
       "<tr><td style=\"text-align: center; vertical-align: top; border-right: solid 1px #D3D3D3; border-left: solid 1px #D3D3D3; \">funny python demo</td><td style=\"text-align: center; vertical-align: top; border-right: solid 1px #D3D3D3; border-left: solid 1px #D3D3D3; \">1832</td><td style=\"text-align: center; vertical-align: top; border-right: solid 1px #D3D3D3; border-left: solid 1px #D3D3D3; \">0.4572385251522064</td><td style=\"text-align: center; vertical-align: top; border-right: solid 1px #D3D3D3; border-left: solid 1px #D3D3D3; \">How to mock AWS services for rapid local development.</td><td style=\"text-align: center; vertical-align: top; border-right: solid 1px #D3D3D3; border-left: solid 1px #D3D3D3; \">https://medium.com/swlh/how-to-mock-aws-services-for-rapid-local-development-3d07581ffc3a</td><td style=\"text-align: center; vertical-align: top; border-right: solid 1px #D3D3D3; border-left: solid 1px #D3D3D3; \">3</td><td style=\"text-align: center; vertical-align: top; border-right: solid 1px #D3D3D3; border-left: solid 1px #D3D3D3; \">The Startup</td><td style=\"text-align: center; vertical-align: top; border-right: solid 1px #D3D3D3; border-left: solid 1px #D3D3D3; \">84</td><td style=\"text-align: center; vertical-align: top; border-right: solid 1px #D3D3D3; border-left: solid 1px #D3D3D3; \">0</td></tr>\n",
       "<tr><td style=\"text-align: center; vertical-align: top; border-right: solid 1px #D3D3D3; border-left: solid 1px #D3D3D3; \">funny python demo</td><td style=\"text-align: center; vertical-align: top; border-right: solid 1px #D3D3D3; border-left: solid 1px #D3D3D3; \">5671</td><td style=\"text-align: center; vertical-align: top; border-right: solid 1px #D3D3D3; border-left: solid 1px #D3D3D3; \">0.459327757358551</td><td style=\"text-align: center; vertical-align: top; border-right: solid 1px #D3D3D3; border-left: solid 1px #D3D3D3; \">Adventure into Machine Learning using Python</td><td style=\"text-align: center; vertical-align: top; border-right: solid 1px #D3D3D3; border-left: solid 1px #D3D3D3; \">https://towardsdatascience.com/adventure-into-machine-learning-using-python-7a85fce81b7d</td><td style=\"text-align: center; vertical-align: top; border-right: solid 1px #D3D3D3; border-left: solid 1px #D3D3D3; \">14</td><td style=\"text-align: center; vertical-align: top; border-right: solid 1px #D3D3D3; border-left: solid 1px #D3D3D3; \">Towards Data Science</td><td style=\"text-align: center; vertical-align: top; border-right: solid 1px #D3D3D3; border-left: solid 1px #D3D3D3; \">25</td><td style=\"text-align: center; vertical-align: top; border-right: solid 1px #D3D3D3; border-left: solid 1px #D3D3D3; \">0</td></tr>\n",
       "<tr><td style=\"text-align: center; vertical-align: top; border-right: solid 1px #D3D3D3; border-left: solid 1px #D3D3D3; \">funny python demo</td><td style=\"text-align: center; vertical-align: top; border-right: solid 1px #D3D3D3; border-left: solid 1px #D3D3D3; \">1752</td><td style=\"text-align: center; vertical-align: top; border-right: solid 1px #D3D3D3; border-left: solid 1px #D3D3D3; \">0.4645395874977112</td><td style=\"text-align: center; vertical-align: top; border-right: solid 1px #D3D3D3; border-left: solid 1px #D3D3D3; \">Custom neural networks in Keras: a street fighter’s guide to build a graphCNN</td><td style=\"text-align: center; vertical-align: top; border-right: solid 1px #D3D3D3; border-left: solid 1px #D3D3D3; \">https://towardsdatascience.com/custom-neural-networks-in-keras-a-street-fighters-guide-to-build-a-graphcnn-e91f6b05f12e</td><td style=\"text-align: center; vertical-align: top; border-right: solid 1px #D3D3D3; border-left: solid 1px #D3D3D3; \">7</td><td style=\"text-align: center; vertical-align: top; border-right: solid 1px #D3D3D3; border-left: solid 1px #D3D3D3; \">Towards Data Science</td><td style=\"text-align: center; vertical-align: top; border-right: solid 1px #D3D3D3; border-left: solid 1px #D3D3D3; \">55</td><td style=\"text-align: center; vertical-align: top; border-right: solid 1px #D3D3D3; border-left: solid 1px #D3D3D3; \">0</td></tr></table>"
      ],
      "text/plain": [
       "<IPython.core.display.HTML object>"
      ]
     },
     "metadata": {},
     "output_type": "display_data"
    }
   ],
   "source": [
    "# milvus search with multi outpt fields\n",
    "search_pipe2 = (pipe.input('query')\n",
    "                    .map('query', 'vec', ops.text_embedding.dpr(model_name=\"facebook/dpr-ctx_encoder-single-nq-base\"))\n",
    "                    .map('vec', 'vec', lambda x: x / np.linalg.norm(x, axis=0))\n",
    "                    .flat_map('vec', ('id', 'score', 'title', 'link', 'reading_time', 'publication', 'claps', 'responses'), \n",
    "                                       ops.ann_search.milvus_client(host='127.0.0.1', \n",
    "                                                                    port='19530',\n",
    "                                                                    collection_name='search_article_in_medium',\n",
    "                                                                    output_fields=['title', 'link', 'reading_time', 'publication', 'claps', 'responses'], \n",
    "                                                                    limit=5))  \n",
    "                    .output('query', 'id', 'score', 'title', 'link', 'reading_time', 'publication', 'claps', 'responses')\n",
    "               )\n",
    "\n",
    "res = search_pipe2('funny python demo')\n",
    "DataCollection(res).show()"
   ]
  },
  {
   "attachments": {},
   "cell_type": "markdown",
   "metadata": {},
   "source": [
    "## Search text with some expr\n",
    "In addition, we can also set some expressions for retrieval. For example, we can specify that the beginning of the article is an article in Python by setting expr='title like \"Python%\"':"
   ]
  },
  {
   "cell_type": "code",
   "execution_count": 12,
   "metadata": {},
   "outputs": [
    {
     "data": {
      "text/html": [
       "<table style=\"border-collapse: collapse;\"><tr><th style=\"text-align: center; font-size: 130%; border: none;\">query</th> <th style=\"text-align: center; font-size: 130%; border: none;\">id</th> <th style=\"text-align: center; font-size: 130%; border: none;\">score</th> <th style=\"text-align: center; font-size: 130%; border: none;\">title</th> <th style=\"text-align: center; font-size: 130%; border: none;\">link</th> <th style=\"text-align: center; font-size: 130%; border: none;\">reading_time</th> <th style=\"text-align: center; font-size: 130%; border: none;\">publication</th> <th style=\"text-align: center; font-size: 130%; border: none;\">claps</th> <th style=\"text-align: center; font-size: 130%; border: none;\">responses</th></tr>\n",
       "<tr><td style=\"text-align: center; vertical-align: top; border-right: solid 1px #D3D3D3; border-left: solid 1px #D3D3D3; \">funny python demo</td><td style=\"text-align: center; vertical-align: top; border-right: solid 1px #D3D3D3; border-left: solid 1px #D3D3D3; \">3897</td><td style=\"text-align: center; vertical-align: top; border-right: solid 1px #D3D3D3; border-left: solid 1px #D3D3D3; \">0.3737611472606659</td><td style=\"text-align: center; vertical-align: top; border-right: solid 1px #D3D3D3; border-left: solid 1px #D3D3D3; \">Python Coding for Kids — Setting Up For the Adventure</td><td style=\"text-align: center; vertical-align: top; border-right: solid 1px #D3D3D3; border-left: solid 1px #D3D3D3; \">https://medium.com/swlh/python-coding-for-kids-setting-up-for-the-adventure-9be4bef6b24e</td><td style=\"text-align: center; vertical-align: top; border-right: solid 1px #D3D3D3; border-left: solid 1px #D3D3D3; \">14</td><td style=\"text-align: center; vertical-align: top; border-right: solid 1px #D3D3D3; border-left: solid 1px #D3D3D3; \">The Startup</td><td style=\"text-align: center; vertical-align: top; border-right: solid 1px #D3D3D3; border-left: solid 1px #D3D3D3; \">119</td><td style=\"text-align: center; vertical-align: top; border-right: solid 1px #D3D3D3; border-left: solid 1px #D3D3D3; \">2</td></tr>\n",
       "<tr><td style=\"text-align: center; vertical-align: top; border-right: solid 1px #D3D3D3; border-left: solid 1px #D3D3D3; \">funny python demo</td><td style=\"text-align: center; vertical-align: top; border-right: solid 1px #D3D3D3; border-left: solid 1px #D3D3D3; \">4644</td><td style=\"text-align: center; vertical-align: top; border-right: solid 1px #D3D3D3; border-left: solid 1px #D3D3D3; \">0.49374863505363464</td><td style=\"text-align: center; vertical-align: top; border-right: solid 1px #D3D3D3; border-left: solid 1px #D3D3D3; \">Python for Finance — The Complete Beginner’s Guide</td><td style=\"text-align: center; vertical-align: top; border-right: solid 1px #D3D3D3; border-left: solid 1px #D3D3D3; \">https://towardsdatascience.com/python-for-finance-the-complete-beginners-guide-764276d74cef</td><td style=\"text-align: center; vertical-align: top; border-right: solid 1px #D3D3D3; border-left: solid 1px #D3D3D3; \">8</td><td style=\"text-align: center; vertical-align: top; border-right: solid 1px #D3D3D3; border-left: solid 1px #D3D3D3; \">Towards Data Science</td><td style=\"text-align: center; vertical-align: top; border-right: solid 1px #D3D3D3; border-left: solid 1px #D3D3D3; \">292</td><td style=\"text-align: center; vertical-align: top; border-right: solid 1px #D3D3D3; border-left: solid 1px #D3D3D3; \">5</td></tr>\n",
       "<tr><td style=\"text-align: center; vertical-align: top; border-right: solid 1px #D3D3D3; border-left: solid 1px #D3D3D3; \">funny python demo</td><td style=\"text-align: center; vertical-align: top; border-right: solid 1px #D3D3D3; border-left: solid 1px #D3D3D3; \">2736</td><td style=\"text-align: center; vertical-align: top; border-right: solid 1px #D3D3D3; border-left: solid 1px #D3D3D3; \">0.4956969618797302</td><td style=\"text-align: center; vertical-align: top; border-right: solid 1px #D3D3D3; border-left: solid 1px #D3D3D3; \">Python for Beginners — Basics</td><td style=\"text-align: center; vertical-align: top; border-right: solid 1px #D3D3D3; border-left: solid 1px #D3D3D3; \">https://towardsdatascience.com/python-for-beginners-basics-7ac6247bb4f4</td><td style=\"text-align: center; vertical-align: top; border-right: solid 1px #D3D3D3; border-left: solid 1px #D3D3D3; \">7</td><td style=\"text-align: center; vertical-align: top; border-right: solid 1px #D3D3D3; border-left: solid 1px #D3D3D3; \">Towards Data Science</td><td style=\"text-align: center; vertical-align: top; border-right: solid 1px #D3D3D3; border-left: solid 1px #D3D3D3; \">11</td><td style=\"text-align: center; vertical-align: top; border-right: solid 1px #D3D3D3; border-left: solid 1px #D3D3D3; \">0</td></tr>\n",
       "<tr><td style=\"text-align: center; vertical-align: top; border-right: solid 1px #D3D3D3; border-left: solid 1px #D3D3D3; \">funny python demo</td><td style=\"text-align: center; vertical-align: top; border-right: solid 1px #D3D3D3; border-left: solid 1px #D3D3D3; \">1667</td><td style=\"text-align: center; vertical-align: top; border-right: solid 1px #D3D3D3; border-left: solid 1px #D3D3D3; \">0.5019434690475464</td><td style=\"text-align: center; vertical-align: top; border-right: solid 1px #D3D3D3; border-left: solid 1px #D3D3D3; \">Python — How to measure thread execution time in multithreaded application?</td><td style=\"text-align: center; vertical-align: top; border-right: solid 1px #D3D3D3; border-left: solid 1px #D3D3D3; \">https://medium.com/swlh/python-how-to-measure-thread-execution-time-in-multithreaded-application-f4b2e2112091</td><td style=\"text-align: center; vertical-align: top; border-right: solid 1px #D3D3D3; border-left: solid 1px #D3D3D3; \">6</td><td style=\"text-align: center; vertical-align: top; border-right: solid 1px #D3D3D3; border-left: solid 1px #D3D3D3; \">The Startup</td><td style=\"text-align: center; vertical-align: top; border-right: solid 1px #D3D3D3; border-left: solid 1px #D3D3D3; \">55</td><td style=\"text-align: center; vertical-align: top; border-right: solid 1px #D3D3D3; border-left: solid 1px #D3D3D3; \">0</td></tr>\n",
       "<tr><td style=\"text-align: center; vertical-align: top; border-right: solid 1px #D3D3D3; border-left: solid 1px #D3D3D3; \">funny python demo</td><td style=\"text-align: center; vertical-align: top; border-right: solid 1px #D3D3D3; border-left: solid 1px #D3D3D3; \">1298</td><td style=\"text-align: center; vertical-align: top; border-right: solid 1px #D3D3D3; border-left: solid 1px #D3D3D3; \">0.5166988968849182</td><td style=\"text-align: center; vertical-align: top; border-right: solid 1px #D3D3D3; border-left: solid 1px #D3D3D3; \">Python Testing with a mock database (SQL)</td><td style=\"text-align: center; vertical-align: top; border-right: solid 1px #D3D3D3; border-left: solid 1px #D3D3D3; \">https://medium.com/swlh/python-testing-with-a-mock-database-sql-68f676562461</td><td style=\"text-align: center; vertical-align: top; border-right: solid 1px #D3D3D3; border-left: solid 1px #D3D3D3; \">4</td><td style=\"text-align: center; vertical-align: top; border-right: solid 1px #D3D3D3; border-left: solid 1px #D3D3D3; \">The Startup</td><td style=\"text-align: center; vertical-align: top; border-right: solid 1px #D3D3D3; border-left: solid 1px #D3D3D3; \">51</td><td style=\"text-align: center; vertical-align: top; border-right: solid 1px #D3D3D3; border-left: solid 1px #D3D3D3; \">0</td></tr></table>"
      ],
      "text/plain": [
       "<IPython.core.display.HTML object>"
      ]
     },
     "metadata": {},
     "output_type": "display_data"
    }
   ],
   "source": [
    "search_pipe3 = (pipe.input('query')\n",
    "                    .map('query', 'vec', ops.text_embedding.dpr(model_name=\"facebook/dpr-ctx_encoder-single-nq-base\"))\n",
    "                    .map('vec', 'vec', lambda x: x / np.linalg.norm(x, axis=0))\n",
    "                    .flat_map('vec', ('id', 'score', 'title', 'link', 'reading_time', 'publication', 'claps', 'responses'), \n",
    "                                       ops.ann_search.milvus_client(host='127.0.0.1', \n",
    "                                                                    port='19530',\n",
    "                                                                    collection_name='search_article_in_medium',\n",
    "                                                                    expr='title like \"Python%\"',\n",
    "                                                                    output_fields=['title', 'link', 'reading_time', 'publication', 'claps', 'responses'], \n",
    "                                                                    limit=5))  \n",
    "                    .output('query', 'id', 'score', 'title', 'link', 'reading_time', 'publication', 'claps', 'responses')\n",
    "               )\n",
    "\n",
    "res = search_pipe3('funny python demo')\n",
    "DataCollection(res).show()"
   ]
  },
  {
   "attachments": {},
   "cell_type": "markdown",
   "metadata": {},
   "source": [
    "Query data in Milvus\n",
    "\n",
    "We have done the text retrieval process before, and we can get articles such as \"Python coding for kids - getting ready for an adventure\" by retrieving \"fun python demos\".\n",
    "\n",
    "We can also do a simple query on the data, we need to set expr and output_fields with the collection.query interface, for example, we can filter out articles with faults greater than 300 and reading time less than 15 minutes, and submitted to TDS :"
   ]
  },
  {
   "cell_type": "code",
   "execution_count": 13,
   "metadata": {},
   "outputs": [
    {
     "data": {
      "text/plain": [
       "[{'id': 913,\n",
       "  'title': 'I Thought I Was Mastering Python Until I Discovered These Tricks',\n",
       "  'link': 'https://towardsdatascience.com/i-thought-i-was-mastering-python-until-i-discovered-these-tricks-e40d9c71f4e2',\n",
       "  'reading_time': 9,\n",
       "  'publication': 'Towards Data Science',\n",
       "  'claps': 5200,\n",
       "  'responses': 17},\n",
       " {'id': 1195,\n",
       "  'title': 'Do Not Use “+” to Join Strings in Python',\n",
       "  'link': 'https://towardsdatascience.com/do-not-use-to-join-strings-in-python-f89908307273',\n",
       "  'reading_time': 5,\n",
       "  'publication': 'Towards Data Science',\n",
       "  'claps': 4200,\n",
       "  'responses': 28},\n",
       " {'id': 2572,\n",
       "  'title': 'Top 3 Python Functions You Don’t Know About (Probably)',\n",
       "  'link': 'https://towardsdatascience.com/top-3-python-functions-you-dont-know-about-probably-978f4be1e6d',\n",
       "  'reading_time': 4,\n",
       "  'publication': 'Towards Data Science',\n",
       "  'claps': 4400,\n",
       "  'responses': 20},\n",
       " {'id': 2865,\n",
       "  'title': 'How to process a DataFrame with billions of rows in seconds',\n",
       "  'link': 'https://towardsdatascience.com/how-to-process-a-dataframe-with-billions-of-rows-in-seconds-c8212580f447',\n",
       "  'reading_time': 6,\n",
       "  'publication': 'Towards Data Science',\n",
       "  'claps': 3100,\n",
       "  'responses': 18},\n",
       " {'id': 4639,\n",
       "  'title': 'Do You Know Python Has A Built-In Database?',\n",
       "  'link': 'https://towardsdatascience.com/do-you-know-python-has-a-built-in-database-d553989c87bd',\n",
       "  'reading_time': 6,\n",
       "  'publication': 'Towards Data Science',\n",
       "  'claps': 3500,\n",
       "  'responses': 8},\n",
       " {'id': 4799,\n",
       "  'title': 'Sorry, Online Courses Won’t Make you a Data Scientist',\n",
       "  'link': 'https://towardsdatascience.com/sorry-online-courses-wont-make-you-a-data-scientist-8639d5f00889',\n",
       "  'reading_time': 8,\n",
       "  'publication': 'Towards Data Science',\n",
       "  'claps': 5000,\n",
       "  'responses': 45},\n",
       " {'id': 5766,\n",
       "  'title': 'Machine Learning Engineers Will Not Exist In 10 Years.',\n",
       "  'link': 'https://towardsdatascience.com/machine-learning-engineers-will-not-exist-in-10-years-c9cbbf4472f3',\n",
       "  'reading_time': 6,\n",
       "  'publication': 'Towards Data Science',\n",
       "  'claps': 4600,\n",
       "  'responses': 73}]"
      ]
     },
     "execution_count": 13,
     "metadata": {},
     "output_type": "execute_result"
    }
   ],
   "source": [
    "collection.query(\n",
    "  expr = 'claps > 3000 && reading_time < 15 && publication like \"Towards Data Science%\"', \n",
    "  output_fields = ['id', 'title', 'link', 'reading_time', 'publication', 'claps', 'responses'],\n",
    "  consistency_level='Strong'\n",
    ")"
   ]
  }
 ],
 "metadata": {
  "kernelspec": {
   "display_name": "vector-database-milvus",
   "language": "python",
   "name": "python3"
  },
  "language_info": {
   "codemirror_mode": {
    "name": "ipython",
    "version": 3
   },
   "file_extension": ".py",
   "mimetype": "text/x-python",
   "name": "python",
   "nbconvert_exporter": "python",
   "pygments_lexer": "ipython3",
   "version": "3.9.18"
  },
  "orig_nbformat": 4
 },
 "nbformat": 4,
 "nbformat_minor": 2
}
